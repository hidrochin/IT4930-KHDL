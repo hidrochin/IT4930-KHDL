{
 "cells": [
  {
   "cell_type": "code",
   "execution_count": 1,
   "id": "066e8d2e",
   "metadata": {
    "_cell_guid": "b1076dfc-b9ad-4769-8c92-a6c4dae69d19",
    "_uuid": "8f2839f25d086af736a60e9eeb907d3b93b6e0e5",
    "execution": {
     "iopub.execute_input": "2024-05-31T19:01:34.377219Z",
     "iopub.status.busy": "2024-05-31T19:01:34.376613Z",
     "iopub.status.idle": "2024-05-31T19:01:35.321525Z",
     "shell.execute_reply": "2024-05-31T19:01:35.319873Z"
    },
    "papermill": {
     "duration": 0.952554,
     "end_time": "2024-05-31T19:01:35.324047",
     "exception": false,
     "start_time": "2024-05-31T19:01:34.371493",
     "status": "completed"
    },
    "tags": []
   },
   "outputs": [
    {
     "name": "stdout",
     "output_type": "stream",
     "text": [
      "/kaggle/input/dataset/data_merged.csv\n"
     ]
    }
   ],
   "source": [
    "# This Python 3 environment comes with many helpful analytics libraries installed\n",
    "# It is defined by the kaggle/python Docker image: https://github.com/kaggle/docker-python\n",
    "# For example, here's several helpful packages to load\n",
    "\n",
    "import numpy as np # linear algebra\n",
    "import pandas as pd # data processing, CSV file I/O (e.g. pd.read_csv)\n",
    "\n",
    "# Input data files are available in the read-only \"../input/\" directory\n",
    "# For example, running this (by clicking run or pressing Shift+Enter) will list all files under the input directory\n",
    "\n",
    "import os\n",
    "for dirname, _, filenames in os.walk('/kaggle/input'):\n",
    "    for filename in filenames:\n",
    "        print(os.path.join(dirname, filename))\n",
    "\n",
    "# You can write up to 20GB to the current directory (/kaggle/working/) that gets preserved as output when you create a version using \"Save & Run All\" \n",
    "# You can also write temporary files to /kaggle/temp/, but they won't be saved outside of the current session"
   ]
  },
  {
   "cell_type": "code",
   "execution_count": 2,
   "id": "aeaea7de",
   "metadata": {
    "execution": {
     "iopub.execute_input": "2024-05-31T19:01:35.332262Z",
     "iopub.status.busy": "2024-05-31T19:01:35.331738Z",
     "iopub.status.idle": "2024-05-31T19:01:35.452044Z",
     "shell.execute_reply": "2024-05-31T19:01:35.450463Z"
    },
    "papermill": {
     "duration": 0.127341,
     "end_time": "2024-05-31T19:01:35.454687",
     "exception": false,
     "start_time": "2024-05-31T19:01:35.327346",
     "status": "completed"
    },
    "tags": []
   },
   "outputs": [
    {
     "name": "stdout",
     "output_type": "stream",
     "text": [
      "Hoàn tất! Các file CSV mới đã được tạo.\n"
     ]
    }
   ],
   "source": [
    "import csv\n",
    "\n",
    "# Đọc file data_merged.csv\n",
    "with open('/kaggle/input/dataset/data_merged.csv', 'r', newline='', encoding='utf-8') as file:\n",
    "    reader = csv.DictReader(file)\n",
    "    data = list(reader)\n",
    "\n",
    "# Tạo các file CSV mới\n",
    "quality_rows = []\n",
    "service_rows = []\n",
    "shipping_rows = []\n",
    "packing_rows = []\n",
    "\n",
    "for row in data:\n",
    "    if row['Quality'] == '0' and row['Service'] != '0' and row['Shipping'] != '0' and row['Packing'] != '0':\n",
    "        quality_rows.append([len(quality_rows) + 1, row['content'], '0', row['Service'], row['Shipping'], row['Packing']])\n",
    "    elif row['Service'] == '0' and row['Quality'] != '0' and row['Shipping'] != '0' and row['Packing'] != '0':\n",
    "        service_rows.append([len(service_rows) + 1, row['content'], row['Quality'], '0', row['Shipping'], row['Packing']])\n",
    "    elif row['Shipping'] == '0' and row['Quality'] != '0' and row['Service'] != '0' and row['Packing'] != '0':\n",
    "        shipping_rows.append([len(shipping_rows) + 1, row['content'], row['Quality'], row['Service'], '0', row['Packing']])\n",
    "    elif row['Packing'] == '0' and row['Quality'] != '0' and row['Service'] != '0' and row['Shipping'] != '0':\n",
    "        packing_rows.append([len(packing_rows) + 1, row['content'], row['Quality'], row['Service'], row['Shipping'], '0'])\n",
    "\n",
    "with open('quality.csv', 'w', newline='', encoding='utf-8') as file:\n",
    "    writer = csv.writer(file)\n",
    "    writer.writerow(['ID', 'content', 'Quality', 'Service', 'Shipping', 'Packing'])\n",
    "    writer.writerows(quality_rows)\n",
    "\n",
    "with open('service.csv', 'w', newline='', encoding='utf-8') as file:\n",
    "    writer = csv.writer(file)\n",
    "    writer.writerow(['ID', 'content', 'Quality', 'Service', 'Shipping', 'Packing'])\n",
    "    writer.writerows(service_rows)\n",
    "\n",
    "with open('shipping.csv', 'w', newline='', encoding='utf-8') as file:\n",
    "    writer = csv.writer(file)\n",
    "    writer.writerow(['ID', 'content', 'Quality', 'Service', 'Shipping', 'Packing'])\n",
    "    writer.writerows(shipping_rows)\n",
    "\n",
    "with open('packing.csv', 'w', newline='', encoding='utf-8') as file:\n",
    "    writer = csv.writer(file)\n",
    "    writer.writerow(['ID', 'content', 'Quality', 'Service', 'Shipping', 'Packing'])\n",
    "    writer.writerows(packing_rows)\n",
    "\n",
    "print(\"Hoàn tất! Các file CSV mới đã được tạo.\")"
   ]
  },
  {
   "cell_type": "code",
   "execution_count": 3,
   "id": "227a638b",
   "metadata": {
    "execution": {
     "iopub.execute_input": "2024-05-31T19:01:35.462977Z",
     "iopub.status.busy": "2024-05-31T19:01:35.462549Z",
     "iopub.status.idle": "2024-05-31T19:01:35.528378Z",
     "shell.execute_reply": "2024-05-31T19:01:35.527057Z"
    },
    "papermill": {
     "duration": 0.072808,
     "end_time": "2024-05-31T19:01:35.530745",
     "exception": false,
     "start_time": "2024-05-31T19:01:35.457937",
     "status": "completed"
    },
    "tags": []
   },
   "outputs": [
    {
     "name": "stdout",
     "output_type": "stream",
     "text": [
      "Hoàn tất! Bạn có thể tìm thấy file CSV mới ở new_packing.csv.\n"
     ]
    }
   ],
   "source": [
    "import csv\n",
    "\n",
    "# Định nghĩa các từ thay thế\n",
    "replacement_dict = {\n",
    "    \"sơ sài\": [\"qua loa\", \"không kĩ\", \"không kỹ\", \"tệ\"],\n",
    "    \"tệ\": [\"Tồi\", \"Kém\", \"Tồi tệ\", \"Dở\"],\n",
    "    \"tồi tệ\": [\"Tệ hại\", \"dở\", \"Quá tệ\", \"kém\"],\n",
    "    \"chán\": [\"nản\", \"dở\", \"tệ\"],\n",
    "    \"không chấp nhận được\": [\"Không chấp nhận được\", \"Không thể chấp nhận\", \"thiếu trách nhiệm\"],\n",
    "    \"đóng gói\": [\"gói\"],\n",
    "    \"móp\": [\"méo mó\", \"lõm\"],\n",
    "    \"ẩu\": [\"dở\", \"tệ\", \"cẩu thả\"],\n",
    "    \"kém\": [\"tệ\", \"dở\"]\n",
    "}\n",
    "\n",
    "# Đọc file CSV và thay thế từ\n",
    "new_rows = []\n",
    "base_id = 1  # ID bắt đầu\n",
    "\n",
    "def replace_case_insensitive(text, old, new):\n",
    "    \"\"\"Hàm thay thế không phân biệt chữ hoa/thường.\"\"\"\n",
    "    index = text.lower().find(old.lower())\n",
    "    if index == -1:\n",
    "        return text\n",
    "    return text[:index] + new + text[index + len(old):]\n",
    "\n",
    "with open('packing.csv', 'r', encoding='utf-8') as file:\n",
    "    reader = csv.reader(file)\n",
    "    header = next(reader)  # Lưu dòng đầu tiên (header)\n",
    "    for row in reader:\n",
    "        # Thêm dòng gốc vào new_rows với ID mới\n",
    "        new_rows.append([base_id] + row[1:])\n",
    "        base_id += 1\n",
    "\n",
    "        for key, values in replacement_dict.items():\n",
    "            if key.lower() in row[1].lower():\n",
    "                for replacement in values:\n",
    "                    # Tạo dòng mới thay thế từ\n",
    "                    new_content = replace_case_insensitive(row[1], key, replacement)\n",
    "                    new_row = [base_id, new_content, row[2], row[3], row[4], \"0\"]\n",
    "                    new_rows.append(new_row)\n",
    "                    base_id += 1\n",
    "\n",
    "# Ghi file CSV mới với ID tự động tăng\n",
    "with open('new_packing.csv', 'w', newline='', encoding='utf-8') as file:\n",
    "    writer = csv.writer(file)\n",
    "    writer.writerow([\"ID\", \"content\", \"Quality\", \"Service\", \"Shipping\", \"Packing\"])\n",
    "    writer.writerows(new_rows)\n",
    "\n",
    "print(\"Hoàn tất! Bạn có thể tìm thấy file CSV mới ở new_packing.csv.\")"
   ]
  },
  {
   "cell_type": "code",
   "execution_count": 4,
   "id": "38abed52",
   "metadata": {
    "execution": {
     "iopub.execute_input": "2024-05-31T19:01:35.539012Z",
     "iopub.status.busy": "2024-05-31T19:01:35.538530Z",
     "iopub.status.idle": "2024-05-31T19:01:35.610787Z",
     "shell.execute_reply": "2024-05-31T19:01:35.609453Z"
    },
    "papermill": {
     "duration": 0.079159,
     "end_time": "2024-05-31T19:01:35.613192",
     "exception": false,
     "start_time": "2024-05-31T19:01:35.534033",
     "status": "completed"
    },
    "tags": []
   },
   "outputs": [
    {
     "name": "stdout",
     "output_type": "stream",
     "text": [
      "Hoàn tất! Bạn có thể tìm thấy file CSV mới ở new_packing.csv.\n"
     ]
    }
   ],
   "source": [
    "import csv\n",
    "\n",
    "# Định nghĩa các từ thay thế\n",
    "replacement_dict = {\n",
    "    \"sơ sài\": [\"qua loa\", \"không kĩ\", \"không kỹ\", \"tệ\"],\n",
    "    \"tệ\": [\"Tồi\", \"Kém\", \"Tồi tệ\", \"Dở\"],\n",
    "    \"tồi tệ\": [\"Tệ hại\", \"dở\", \"Quá tệ\", \"kém\"],\n",
    "    \"chán\": [\"nản\", \"dở\", \"tệ\"],\n",
    "    \"không chấp nhận được\": [\"Không chấp nhận được\", \"Không thể chấp nhận\", \"thiếu trách nhiệm\"],\n",
    "    \"ẩu\": [\"dở\", \"tệ\", \"cẩu thả\"],\n",
    "    \"kém\": [\"tệ\", \"dở\"],\n",
    "    \"chậm\": [\"chậm chạp\", \"lề mề\"],\n",
    "    \"bức xúc\": [\"bực mình\"],\n",
    "    \"thất vọng\": [\"hụt hẫng\", \"bực bội\", \"nản lòng\"],\n",
    "    \"không đúng\": [\"sai\", \"không giống\"],\n",
    "    \"thái độ\": [\"tồi\", \"tệ\"],\n",
    "    \"lâu\": [\"chậm\", \"chậm chạp\", \"trễ\"],\n",
    "    \"vấn đề\": [\"tồi\", \"tệ\", \"tồi tệ\",\"dở\", \"chán\"]\n",
    "}\n",
    "\n",
    "# Đọc file CSV và thay thế từ\n",
    "new_rows = []\n",
    "base_id = 1  # ID bắt đầu\n",
    "\n",
    "def replace_case_insensitive(text, old, new):\n",
    "    \"\"\"Hàm thay thế không phân biệt chữ hoa/thường.\"\"\"\n",
    "    index = text.lower().find(old.lower())\n",
    "    if index == -1:\n",
    "        return text\n",
    "    return text[:index] + new + text[index + len(old):]\n",
    "\n",
    "with open('service.csv', 'r', encoding='utf-8') as file:\n",
    "    reader = csv.reader(file)\n",
    "    header = next(reader)  # Lưu dòng đầu tiên (header)\n",
    "    for row in reader:\n",
    "        # Thêm dòng gốc vào new_rows với ID mới\n",
    "        new_rows.append([base_id] + row[1:])\n",
    "        base_id += 1\n",
    "\n",
    "        for key, values in replacement_dict.items():\n",
    "            if key.lower() in row[1].lower():\n",
    "                for replacement in values:\n",
    "                    # Tạo dòng mới thay thế từ\n",
    "                    new_content = replace_case_insensitive(row[1], key, replacement)\n",
    "                    new_row = [base_id, new_content, row[2], \"0\", row[4], row[5]]\n",
    "                    new_rows.append(new_row)\n",
    "                    base_id += 1\n",
    "\n",
    "# Ghi file CSV mới với ID tự động tăng\n",
    "with open('new_service.csv', 'w', newline='', encoding='utf-8') as file:\n",
    "    writer = csv.writer(file)\n",
    "    writer.writerow([\"ID\", \"content\", \"Quality\", \"Service\", \"Shipping\", \"Packing\"])\n",
    "    writer.writerows(new_rows)\n",
    "\n",
    "print(\"Hoàn tất! Bạn có thể tìm thấy file CSV mới ở new_packing.csv.\")"
   ]
  },
  {
   "cell_type": "code",
   "execution_count": 5,
   "id": "b3b347ab",
   "metadata": {
    "execution": {
     "iopub.execute_input": "2024-05-31T19:01:35.622129Z",
     "iopub.status.busy": "2024-05-31T19:01:35.620971Z",
     "iopub.status.idle": "2024-05-31T19:01:35.670435Z",
     "shell.execute_reply": "2024-05-31T19:01:35.669192Z"
    },
    "papermill": {
     "duration": 0.05693,
     "end_time": "2024-05-31T19:01:35.673402",
     "exception": false,
     "start_time": "2024-05-31T19:01:35.616472",
     "status": "completed"
    },
    "tags": []
   },
   "outputs": [
    {
     "name": "stdout",
     "output_type": "stream",
     "text": [
      "Hoàn tất! Bạn có thể tìm thấy file CSV mới ở new_packing.csv.\n"
     ]
    }
   ],
   "source": [
    "import csv\n",
    "\n",
    "# Định nghĩa các từ thay thế\n",
    "replacement_dict = {\n",
    "    \"tệ\": [\"Tồi\", \"Kém\", \"Tồi tệ\", \"Dở\"],\n",
    "    \"tồi tệ\": [\"Tệ hại\", \"dở\", \"Quá tệ\", \"kém\"],\n",
    "    \"chán\": [\"nản\", \"dở\", \"tệ\"],\n",
    "    \"không chấp nhận được\": [\"Không chấp nhận được\", \"Không thể chấp nhận\", \"thiếu trách nhiệm\"],\n",
    "    \"chậm\": [\"chậm chạp\", \"lề mề\"],\n",
    "    \"không đúng\": [\"sai\", \"không giống\"],\n",
    "    \"thái độ\": [\"tồi\", \"tệ\"],\n",
    "    \"lâu\": [\"chậm\", \"chậm chạp\", \"trễ\"],\n",
    "    \"vấn đề\": [\"tồi\", \"tệ\", \"tồi tệ\",\"dở\", \"chán\"],\n",
    "    \"vận chuyển\": [\"giao hàng\"],\n",
    "    \"mất\": \"thất lạc\",\n",
    "    \"ghét\": [\"khó chịu\", \"không vui\"],\n",
    "    \"giao hàng\": \"ship\"\n",
    "}\n",
    "\n",
    "# Đọc file CSV và thay thế từ\n",
    "new_rows = []\n",
    "base_id = 1  # ID bắt đầu\n",
    "\n",
    "def replace_case_insensitive(text, old, new):\n",
    "    \"\"\"Hàm thay thế không phân biệt chữ hoa/thường.\"\"\"\n",
    "    index = text.lower().find(old.lower())\n",
    "    if index == -1:\n",
    "        return text\n",
    "    return text[:index] + new + text[index + len(old):]\n",
    "\n",
    "with open('shipping.csv', 'r', encoding='utf-8') as file:\n",
    "    reader = csv.reader(file)\n",
    "    header = next(reader)  # Lưu dòng đầu tiên (header)\n",
    "    for row in reader:\n",
    "        # Thêm dòng gốc vào new_rows với ID mới\n",
    "        new_rows.append([base_id] + row[1:])\n",
    "        base_id += 1\n",
    "\n",
    "        for key, values in replacement_dict.items():\n",
    "            if key.lower() in row[1].lower():\n",
    "                for replacement in values:\n",
    "                    # Tạo dòng mới thay thế từ\n",
    "                    new_content = replace_case_insensitive(row[1], key, replacement)\n",
    "                    new_row = [base_id, new_content, row[2], row[3], \"0\", row[5]]\n",
    "                    new_rows.append(new_row)\n",
    "                    base_id += 1\n",
    "\n",
    "# Ghi file CSV mới với ID tự động tăng\n",
    "with open('new_shipping.csv', 'w', newline='', encoding='utf-8') as file:\n",
    "    writer = csv.writer(file)\n",
    "    writer.writerow([\"ID\", \"content\", \"Quality\", \"Service\", \"Shipping\", \"Packing\"])\n",
    "    writer.writerows(new_rows)\n",
    "\n",
    "print(\"Hoàn tất! Bạn có thể tìm thấy file CSV mới ở new_packing.csv.\")"
   ]
  },
  {
   "cell_type": "code",
   "execution_count": 6,
   "id": "ad51bb5f",
   "metadata": {
    "execution": {
     "iopub.execute_input": "2024-05-31T19:01:35.682797Z",
     "iopub.status.busy": "2024-05-31T19:01:35.681797Z",
     "iopub.status.idle": "2024-05-31T19:01:39.773956Z",
     "shell.execute_reply": "2024-05-31T19:01:39.772712Z"
    },
    "papermill": {
     "duration": 4.099731,
     "end_time": "2024-05-31T19:01:39.776702",
     "exception": false,
     "start_time": "2024-05-31T19:01:35.676971",
     "status": "completed"
    },
    "tags": []
   },
   "outputs": [
    {
     "name": "stdout",
     "output_type": "stream",
     "text": [
      "Số bản ghi trong DataFrame đã hợp nhất và loại bỏ các hàng trùng lặp: 18624\n",
      "Hoàn tất! Bạn có thể tìm thấy file Excel hợp nhất ở final_merged.xlsx.\n"
     ]
    }
   ],
   "source": [
    "import pandas as pd\n",
    "\n",
    "   # Đọc các file CSV\n",
    "data_merged = pd.read_csv('/kaggle/input/dataset/data_merged.csv')\n",
    "new_packing = pd.read_csv('new_packing.csv')\n",
    "new_shipping = pd.read_csv('new_shipping.csv')\n",
    "new_service = pd.read_csv('new_service.csv')\n",
    "quality = pd.read_csv('quality.csv')\n",
    "\n",
    "   # Merge các DataFrame\n",
    "merged_df = pd.concat([data_merged, new_packing, new_shipping, new_service, quality], ignore_index=True)\n",
    "\n",
    "   # Loại bỏ các hàng trùng lặp\n",
    "merged_df.drop_duplicates(inplace=True)\n",
    "\n",
    "   # Đánh lại ID\n",
    "merged_df.reset_index(drop=True, inplace=True)\n",
    "merged_df['ID'] = merged_df.index + 1\n",
    "\n",
    "   # In ra số bản ghi\n",
    "print(f\"Số bản ghi trong DataFrame đã hợp nhất và loại bỏ các hàng trùng lặp: {merged_df.shape[0]}\")\n",
    "\n",
    "   # Ghi DataFrame hợp nhất ra file Excel\n",
    "merged_df.to_excel('data_merged_final.xlsx', index=False, engine='openpyxl')\n",
    "\n",
    "print(\"Hoàn tất! Bạn có thể tìm thấy file Excel hợp nhất ở final_merged.xlsx.\")"
   ]
  }
 ],
 "metadata": {
  "kaggle": {
   "accelerator": "none",
   "dataSources": [
    {
     "datasetId": 5126275,
     "sourceId": 8572972,
     "sourceType": "datasetVersion"
    }
   ],
   "dockerImageVersionId": 30715,
   "isGpuEnabled": false,
   "isInternetEnabled": false,
   "language": "python",
   "sourceType": "notebook"
  },
  "kernelspec": {
   "display_name": "Python 3",
   "language": "python",
   "name": "python3"
  },
  "language_info": {
   "codemirror_mode": {
    "name": "ipython",
    "version": 3
   },
   "file_extension": ".py",
   "mimetype": "text/x-python",
   "name": "python",
   "nbconvert_exporter": "python",
   "pygments_lexer": "ipython3",
   "version": "3.10.13"
  },
  "papermill": {
   "default_parameters": {},
   "duration": 8.9018,
   "end_time": "2024-05-31T19:01:40.401909",
   "environment_variables": {},
   "exception": null,
   "input_path": "__notebook__.ipynb",
   "output_path": "__notebook__.ipynb",
   "parameters": {},
   "start_time": "2024-05-31T19:01:31.500109",
   "version": "2.5.0"
  }
 },
 "nbformat": 4,
 "nbformat_minor": 5
}
